{
 "cells": [
  {
   "cell_type": "code",
   "execution_count": 11,
   "metadata": {},
   "outputs": [
    {
     "ename": "ImportError",
     "evalue": "cannot import name 'FFProbe'",
     "output_type": "error",
     "traceback": [
      "\u001b[0;31m---------------------------------------------------------------------------\u001b[0m",
      "\u001b[0;31mImportError\u001b[0m                               Traceback (most recent call last)",
      "\u001b[0;32m<ipython-input-11-c81ceb854af8>\u001b[0m in \u001b[0;36m<module>\u001b[0;34m()\u001b[0m\n\u001b[1;32m      2\u001b[0m \u001b[0;32mfrom\u001b[0m \u001b[0mwand\u001b[0m\u001b[0;34m.\u001b[0m\u001b[0mimage\u001b[0m \u001b[0;32mimport\u001b[0m \u001b[0mImage\u001b[0m\u001b[0;34m\u001b[0m\u001b[0m\n\u001b[1;32m      3\u001b[0m \u001b[0;31m#import ffprobe\u001b[0m\u001b[0;34m\u001b[0m\u001b[0;34m\u001b[0m\u001b[0m\n\u001b[0;32m----> 4\u001b[0;31m \u001b[0;32mimport\u001b[0m \u001b[0mffprobe\u001b[0m\u001b[0;34m.\u001b[0m\u001b[0mFFProbe\u001b[0m\u001b[0;34m\u001b[0m\u001b[0m\n\u001b[0m",
      "\u001b[0;32m~/anaconda3/lib/python3.6/site-packages/ffprobe/__init__.py\u001b[0m in \u001b[0;36m<module>\u001b[0;34m()\u001b[0m\n\u001b[0;32m----> 1\u001b[0;31m \u001b[0;32mfrom\u001b[0m \u001b[0mffprobe\u001b[0m \u001b[0;32mimport\u001b[0m \u001b[0mFFProbe\u001b[0m\u001b[0;34m\u001b[0m\u001b[0m\n\u001b[0m",
      "\u001b[0;31mImportError\u001b[0m: cannot import name 'FFProbe'"
     ]
    }
   ],
   "source": [
    "import json\n",
    "from wand.image import Image\n",
    "#import ffprobe\n",
    "#from ffprobe import FFProbe"
   ]
  },
  {
   "cell_type": "code",
   "execution_count": 5,
   "metadata": {},
   "outputs": [
    {
     "name": "stdout",
     "output_type": "stream",
     "text": [
      "width =  3120\n",
      "height =  4160\n",
      "date:create 2018-01-17T23:05:38+03:00\n",
      "date:modify 2018-01-08T10:05:28+03:00\n",
      "exif:ApertureValue 200/100\n",
      "exif:BrightnessValue -272/100\n",
      "exif:ColorSpace 1\n",
      "exif:ComponentsConfiguration 1, 2, 3, 0\n",
      "exif:DateTime 2018:01:02 13:28:17\n",
      "exif:DateTimeDigitized 2018:01:02 13:28:17\n",
      "exif:DateTimeOriginal 2018:01:02 13:28:17\n",
      "exif:ExifImageLength 4160\n",
      "exif:ExifImageWidth 3120\n",
      "exif:ExifOffset 234\n",
      "exif:ExifVersion 48, 50, 50, 48\n",
      "exif:ExposureMode 0\n",
      "exif:ExposureProgram 0\n",
      "exif:ExposureTime 1/14\n",
      "exif:Flash 16\n",
      "exif:FlashPixVersion 48, 49, 48, 48\n",
      "exif:FNumber 200/100\n",
      "exif:FocalLength 412/100\n",
      "exif:FocalLengthIn35mmFilm 30\n",
      "exif:GPSAltitude 0/1000\n",
      "exif:GPSAltitudeRef 200/100\n",
      "exif:GPSDateStamp 2018:01:02\n",
      "exif:GPSInfo 718\n",
      "exif:GPSLatitude 55/1, 48/1, 217756/10000\n",
      "exif:GPSLatitudeRef N\n",
      "exif:GPSLongitude 38/1, 28/1, 239465/10000\n",
      "exif:GPSLongitudeRef E\n",
      "exif:GPSProcessingMethod ASCII\n",
      "exif:GPSTimeStamp 10/1, 27/1, 44/1\n",
      "exif:InteroperabilityOffset 687\n",
      "exif:ISOSpeedRatings 1133\n",
      "exif:Make Xiaomi\n",
      "exif:MeteringMode 2\n",
      "exif:Model MI 4S\n",
      "exif:ResolutionUnit 2\n",
      "exif:SceneCaptureType 5\n",
      "exif:SceneType 1\n",
      "exif:SensingMethod 2\n",
      "exif:ShutterSpeedValue 3836/1000\n",
      "exif:Software aqua-user 5.1.1 LMY47V V7.5.3.0.LAJCNDE release-keys\n",
      "exif:SubSecTime 151192\n",
      "exif:SubSecTimeDigitized 151192\n",
      "exif:SubSecTimeOriginal 151192\n",
      "exif:thumbnail:Compression 6\n",
      "exif:thumbnail:InteroperabilityIndex R98\n",
      "exif:thumbnail:InteroperabilityVersion 48, 49, 48, 48\n",
      "exif:thumbnail:JPEGInterchangeFormat 1054\n",
      "exif:thumbnail:JPEGInterchangeFormatLength 8572\n",
      "exif:thumbnail:ResolutionUnit 2\n",
      "exif:thumbnail:XResolution 72/1\n",
      "exif:thumbnail:YResolution 72/1\n",
      "exif:WhiteBalance 0\n",
      "exif:XResolution 72/1\n",
      "exif:YCbCrPositioning 1\n",
      "exif:YResolution 72/1\n",
      "jpeg:colorspace 2\n",
      "jpeg:sampling-factor 2x2,1x1,1x1\n"
     ]
    }
   ],
   "source": [
    "#обработка фото\n",
    "\n",
    "#метаданные\n",
    "\n",
    "with Image(filename='2018-01-02 13-27-44_1514911110606.JPG') as img:\n",
    "    print ('width = ', img.width)\n",
    "    print ('height = ', img.height)\n",
    "    for k, v in img.metadata.items():\n",
    "        print(k, v)"
   ]
  },
  {
   "cell_type": "code",
   "execution_count": null,
   "metadata": {
    "collapsed": true
   },
   "outputs": [],
   "source": []
  },
  {
   "cell_type": "code",
   "execution_count": null,
   "metadata": {
    "collapsed": true
   },
   "outputs": [],
   "source": []
  }
 ],
 "metadata": {
  "kernelspec": {
   "display_name": "Python 3",
   "language": "python",
   "name": "python3"
  },
  "language_info": {
   "codemirror_mode": {
    "name": "ipython",
    "version": 3
   },
   "file_extension": ".py",
   "mimetype": "text/x-python",
   "name": "python",
   "nbconvert_exporter": "python",
   "pygments_lexer": "ipython3",
   "version": "3.6.2"
  }
 },
 "nbformat": 4,
 "nbformat_minor": 2
}
