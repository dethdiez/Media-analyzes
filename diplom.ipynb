{
 "cells": [
  {
   "cell_type": "code",
   "execution_count": 2,
   "metadata": {},
   "outputs": [],
   "source": [
    "import json\n",
    "from wand.image import Image\n",
    "#import ffprobe\n",
    "#from ffprobe import FFProbe"
   ]
  },
  {
   "cell_type": "code",
   "execution_count": 15,
   "metadata": {},
   "outputs": [
    {
     "name": "stdout",
     "output_type": "stream",
     "text": [
      "width =  3120\n",
      "height =  4160\n"
     ]
    }
   ],
   "source": [
    "#обработка фото\n",
    "\n",
    "#метаданные\n",
    "\n",
    "with Image(filename='2018-01-02 13-27-44_1514911110606.JPG') as img:\n",
    "    print ('width = ', img.width)\n",
    "    print ('height = ', img.height)\n",
    "    data = {}\n",
    "    for k, v in img.metadata.items():\n",
    "        data[k] = v\n",
    "    with open ('2018-01-02 13-27-44_1514911110606.json', 'w+') as res:\n",
    "        json.dump(data, res)"
   ]
  },
  {
   "cell_type": "code",
   "execution_count": null,
   "metadata": {
    "collapsed": true
   },
   "outputs": [],
   "source": []
  },
  {
   "cell_type": "code",
   "execution_count": null,
   "metadata": {
    "collapsed": true
   },
   "outputs": [],
   "source": []
  }
 ],
 "metadata": {
  "kernelspec": {
   "display_name": "Python 3",
   "language": "python",
   "name": "python3"
  },
  "language_info": {
   "codemirror_mode": {
    "name": "ipython",
    "version": 3
   },
   "file_extension": ".py",
   "mimetype": "text/x-python",
   "name": "python",
   "nbconvert_exporter": "python",
   "pygments_lexer": "ipython3",
   "version": "3.6.2"
  }
 },
 "nbformat": 4,
 "nbformat_minor": 2
}
